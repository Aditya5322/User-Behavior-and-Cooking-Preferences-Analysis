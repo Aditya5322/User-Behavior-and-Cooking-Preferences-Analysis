{
  "nbformat": 4,
  "nbformat_minor": 0,
  "metadata": {
    "colab": {
      "provenance": [],
      "authorship_tag": "ABX9TyMNSrwQQ8W6JiVIkpiIP9l6",
      "include_colab_link": true
    },
    "kernelspec": {
      "name": "python3",
      "display_name": "Python 3"
    },
    "language_info": {
      "name": "python"
    }
  },
  "cells": [
    {
      "cell_type": "markdown",
      "metadata": {
        "id": "view-in-github",
        "colab_type": "text"
      },
      "source": [
        "<a href=\"https://colab.research.google.com/github/Aditya5322/User-Behavior-and-Cooking-Preferences-Analysis/blob/main/Assignment_Solutions.ipynb\" target=\"_parent\"><img src=\"https://colab.research.google.com/assets/colab-badge.svg\" alt=\"Open In Colab\"/></a>"
      ]
    },
    {
      "cell_type": "markdown",
      "source": [
        "###\n",
        "\n",
        "```\n",
        "# This is formatted as code\n",
        "```\n",
        "\n",
        " Question 1"
      ],
      "metadata": {
        "id": "cnnBrAbG6O5R"
      }
    },
    {
      "cell_type": "code",
      "execution_count": 9,
      "metadata": {
        "colab": {
          "base_uri": "https://localhost:8080/",
          "height": 753
        },
        "id": "R2z6Ezj60ajU",
        "outputId": "672720fb-b182-448a-ebf7-25deb5d00781"
      },
      "outputs": [
        {
          "output_type": "stream",
          "name": "stdout",
          "text": [
            "Requirement already satisfied: gspread in /usr/local/lib/python3.10/dist-packages (6.0.2)\n",
            "Collecting gspread\n",
            "  Downloading gspread-6.1.4-py3-none-any.whl.metadata (11 kB)\n",
            "Requirement already satisfied: google-auth in /usr/local/lib/python3.10/dist-packages (2.27.0)\n",
            "Collecting google-auth\n",
            "  Downloading google_auth-2.37.0-py2.py3-none-any.whl.metadata (4.8 kB)\n",
            "Requirement already satisfied: google-auth-oauthlib>=0.4.1 in /usr/local/lib/python3.10/dist-packages (from gspread) (1.2.1)\n",
            "Requirement already satisfied: cachetools<6.0,>=2.0.0 in /usr/local/lib/python3.10/dist-packages (from google-auth) (5.5.0)\n",
            "Requirement already satisfied: pyasn1-modules>=0.2.1 in /usr/local/lib/python3.10/dist-packages (from google-auth) (0.4.1)\n",
            "Requirement already satisfied: rsa<5,>=3.1.4 in /usr/local/lib/python3.10/dist-packages (from google-auth) (4.9)\n",
            "Requirement already satisfied: requests-oauthlib>=0.7.0 in /usr/local/lib/python3.10/dist-packages (from google-auth-oauthlib>=0.4.1->gspread) (1.3.1)\n",
            "Requirement already satisfied: pyasn1<0.7.0,>=0.4.6 in /usr/local/lib/python3.10/dist-packages (from pyasn1-modules>=0.2.1->google-auth) (0.6.1)\n",
            "Requirement already satisfied: oauthlib>=3.0.0 in /usr/local/lib/python3.10/dist-packages (from requests-oauthlib>=0.7.0->google-auth-oauthlib>=0.4.1->gspread) (3.2.2)\n",
            "Requirement already satisfied: requests>=2.0.0 in /usr/local/lib/python3.10/dist-packages (from requests-oauthlib>=0.7.0->google-auth-oauthlib>=0.4.1->gspread) (2.32.3)\n",
            "Requirement already satisfied: charset-normalizer<4,>=2 in /usr/local/lib/python3.10/dist-packages (from requests>=2.0.0->requests-oauthlib>=0.7.0->google-auth-oauthlib>=0.4.1->gspread) (3.4.0)\n",
            "Requirement already satisfied: idna<4,>=2.5 in /usr/local/lib/python3.10/dist-packages (from requests>=2.0.0->requests-oauthlib>=0.7.0->google-auth-oauthlib>=0.4.1->gspread) (3.10)\n",
            "Requirement already satisfied: urllib3<3,>=1.21.1 in /usr/local/lib/python3.10/dist-packages (from requests>=2.0.0->requests-oauthlib>=0.7.0->google-auth-oauthlib>=0.4.1->gspread) (2.2.3)\n",
            "Requirement already satisfied: certifi>=2017.4.17 in /usr/local/lib/python3.10/dist-packages (from requests>=2.0.0->requests-oauthlib>=0.7.0->google-auth-oauthlib>=0.4.1->gspread) (2024.8.30)\n",
            "Downloading gspread-6.1.4-py3-none-any.whl (57 kB)\n",
            "\u001b[2K   \u001b[90m━━━━━━━━━━━━━━━━━━━━━━━━━━━━━━━━━━━━━━━━\u001b[0m \u001b[32m57.6/57.6 kB\u001b[0m \u001b[31m2.2 MB/s\u001b[0m eta \u001b[36m0:00:00\u001b[0m\n",
            "\u001b[?25hDownloading google_auth-2.37.0-py2.py3-none-any.whl (209 kB)\n",
            "\u001b[2K   \u001b[90m━━━━━━━━━━━━━━━━━━━━━━━━━━━━━━━━━━━━━━━━\u001b[0m \u001b[32m209.8/209.8 kB\u001b[0m \u001b[31m6.5 MB/s\u001b[0m eta \u001b[36m0:00:00\u001b[0m\n",
            "\u001b[?25hInstalling collected packages: google-auth, gspread\n",
            "  Attempting uninstall: google-auth\n",
            "    Found existing installation: google-auth 2.27.0\n",
            "    Uninstalling google-auth-2.27.0:\n",
            "      Successfully uninstalled google-auth-2.27.0\n",
            "  Attempting uninstall: gspread\n",
            "    Found existing installation: gspread 6.0.2\n",
            "    Uninstalling gspread-6.0.2:\n",
            "      Successfully uninstalled gspread-6.0.2\n",
            "\u001b[31mERROR: pip's dependency resolver does not currently take into account all the packages that are installed. This behaviour is the source of the following dependency conflicts.\n",
            "google-colab 1.0.0 requires google-auth==2.27.0, but you have google-auth 2.37.0 which is incompatible.\u001b[0m\u001b[31m\n",
            "\u001b[0mSuccessfully installed google-auth-2.37.0 gspread-6.1.4\n"
          ]
        },
        {
          "output_type": "display_data",
          "data": {
            "application/vnd.colab-display-data+json": {
              "pip_warning": {
                "packages": [
                  "google"
                ]
              },
              "id": "224c056c028d48c49fc4cbfe71e64334"
            }
          },
          "metadata": {}
        }
      ],
      "source": [
        "!pip install --upgrade gspread google-auth"
      ]
    },
    {
      "cell_type": "code",
      "source": [
        "from google.colab import drive\n",
        "drive.mount('/content/drive')"
      ],
      "metadata": {
        "colab": {
          "base_uri": "https://localhost:8080/"
        },
        "id": "yHliCmAm0ho2",
        "outputId": "d5447fb3-39a8-46af-ec63-0da0adaab39e"
      },
      "execution_count": 1,
      "outputs": [
        {
          "output_type": "stream",
          "name": "stdout",
          "text": [
            "Mounted at /content/drive\n"
          ]
        }
      ]
    },
    {
      "cell_type": "code",
      "source": [
        "from google.colab import auth\n",
        "from oauth2client.client import GoogleCredentials\n",
        "import gspread"
      ],
      "metadata": {
        "id": "YkYxvera1ihJ"
      },
      "execution_count": 1,
      "outputs": []
    },
    {
      "cell_type": "code",
      "source": [
        "from google.colab import auth\n",
        "from google.auth import credentials\n",
        "from google.auth.transport.requests import Request\n",
        "import gspread\n",
        "from google.auth import default\n",
        "\n",
        "# Authenticate the user\n",
        "auth.authenticate_user()\n",
        "\n",
        "# Get the default credentials\n",
        "creds, _ = default()\n",
        "\n",
        "# Authorize gspread with the credentials\n",
        "gc = gspread.authorize(creds)"
      ],
      "metadata": {
        "id": "Armianws1iXq"
      },
      "execution_count": 2,
      "outputs": []
    },
    {
      "cell_type": "code",
      "source": [
        "spreadsheet_list = gc.openall()\n",
        "\n",
        "# Print the names of the spreadsheets\n",
        "for sheet in spreadsheet_list:\n",
        "    print(sheet.title)"
      ],
      "metadata": {
        "colab": {
          "base_uri": "https://localhost:8080/"
        },
        "id": "0s18EC831rf7",
        "outputId": "b747f7cb-3920-42fe-fd45-232f1e6df8f6"
      },
      "execution_count": 6,
      "outputs": [
        {
          "output_type": "stream",
          "name": "stdout",
          "text": [
            "Assignment\n",
            "150_Companies_Internship\n"
          ]
        }
      ]
    },
    {
      "cell_type": "code",
      "source": [
        "spreadsheet = gc.open('Assignment')"
      ],
      "metadata": {
        "id": "92u3k1AZ1rcj"
      },
      "execution_count": 7,
      "outputs": []
    },
    {
      "cell_type": "code",
      "source": [
        "# Access the first tab (index 0)\n",
        "worksheet_1 = spreadsheet.get_worksheet(0)\n",
        "\n",
        "# Access the second tab (index 1)\n",
        "worksheet_2 = spreadsheet.get_worksheet(1)\n",
        "\n",
        "# Access the third tab (index 2)\n",
        "worksheet_3 = spreadsheet.get_worksheet(2)"
      ],
      "metadata": {
        "id": "RjR6WmRB1raO"
      },
      "execution_count": 8,
      "outputs": []
    },
    {
      "cell_type": "code",
      "source": [
        "import pandas as pd"
      ],
      "metadata": {
        "id": "9Q64VK4V5FfM"
      },
      "execution_count": 10,
      "outputs": []
    },
    {
      "cell_type": "code",
      "source": [
        "user_details = pd.DataFrame(worksheet_1.get_all_records())\n",
        "cooking_sessions = pd.DataFrame(worksheet_2.get_all_records())\n",
        "order_details = pd.DataFrame(worksheet_3.get_all_records())"
      ],
      "metadata": {
        "id": "jD-zmEne1rOX"
      },
      "execution_count": 11,
      "outputs": []
    },
    {
      "cell_type": "code",
      "source": [
        "# 1.1. Cleaning the Data\n",
        "\n",
        "# Check for missing values in each dataset\n",
        "user_details_missing = user_details.isnull().sum()\n",
        "cooking_sessions_missing = cooking_sessions.isnull().sum()\n",
        "order_details_missing = order_details.isnull().sum()\n",
        "\n",
        "user_details_missing, cooking_sessions_missing, order_details_missing\n"
      ],
      "metadata": {
        "colab": {
          "base_uri": "https://localhost:8080/"
        },
        "id": "1gguliHw0s-g",
        "outputId": "65092c3b-69da-453b-b731-64c2513164f4"
      },
      "execution_count": 17,
      "outputs": [
        {
          "output_type": "execute_result",
          "data": {
            "text/plain": [
              "(User ID              0\n",
              " User Name            0\n",
              " Age                  0\n",
              " Location             0\n",
              " Registration Date    0\n",
              " Phone                0\n",
              " Email                0\n",
              " Favorite Meal        0\n",
              " Total Orders         0\n",
              " dtype: int64,\n",
              " Session ID         0\n",
              " User ID            0\n",
              " Dish Name          0\n",
              " Meal Type          0\n",
              " Session Start      0\n",
              " Session End        0\n",
              " Duration (mins)    0\n",
              " Session Rating     0\n",
              " dtype: int64,\n",
              " Order ID        0\n",
              " User ID         0\n",
              " Order Date      0\n",
              " Meal Type       0\n",
              " Dish Name       0\n",
              " Order Status    0\n",
              " Amount (USD)    0\n",
              " Time of Day     0\n",
              " Rating          0\n",
              " Session ID      0\n",
              " dtype: int64)"
            ]
          },
          "metadata": {},
          "execution_count": 17
        }
      ]
    },
    {
      "cell_type": "code",
      "source": [
        "# Handle missing values (example: drop rows with missing values)\n",
        "user_details_clean = user_details.dropna()\n",
        "cooking_sessions_clean = cooking_sessions.dropna()\n",
        "order_details_clean = order_details.dropna()\n",
        "\n",
        "# Verify that missing values have been handled\n",
        "user_details_clean.isnull().sum(), cooking_sessions_clean.isnull().sum(), order_details_clean.isnull().sum()\n"
      ],
      "metadata": {
        "colab": {
          "base_uri": "https://localhost:8080/"
        },
        "id": "MjNNFQSG1E5B",
        "outputId": "4adf30e3-7bbb-4786-ebd6-176f0bb38bea"
      },
      "execution_count": 18,
      "outputs": [
        {
          "output_type": "execute_result",
          "data": {
            "text/plain": [
              "(User ID              0\n",
              " User Name            0\n",
              " Age                  0\n",
              " Location             0\n",
              " Registration Date    0\n",
              " Phone                0\n",
              " Email                0\n",
              " Favorite Meal        0\n",
              " Total Orders         0\n",
              " dtype: int64,\n",
              " Session ID         0\n",
              " User ID            0\n",
              " Dish Name          0\n",
              " Meal Type          0\n",
              " Session Start      0\n",
              " Session End        0\n",
              " Duration (mins)    0\n",
              " Session Rating     0\n",
              " dtype: int64,\n",
              " Order ID        0\n",
              " User ID         0\n",
              " Order Date      0\n",
              " Meal Type       0\n",
              " Dish Name       0\n",
              " Order Status    0\n",
              " Amount (USD)    0\n",
              " Time of Day     0\n",
              " Rating          0\n",
              " Session ID      0\n",
              " dtype: int64)"
            ]
          },
          "metadata": {},
          "execution_count": 18
        }
      ]
    },
    {
      "cell_type": "code",
      "source": [
        "# Convert columns to appropriate data types\n",
        "user_details_clean['Registration Date'] = pd.to_datetime(user_details_clean['Registration Date'])\n",
        "cooking_sessions_clean['Session Start'] = pd.to_datetime(cooking_sessions_clean['Session Start'])\n",
        "cooking_sessions_clean['Session End'] = pd.to_datetime(cooking_sessions_clean['Session End'])\n",
        "order_details_clean['Order Date'] = pd.to_datetime(order_details_clean['Order Date'])\n",
        "\n",
        "# Display data types to ensure they are correct\n",
        "user_details_clean.dtypes, cooking_sessions_clean.dtypes, order_details_clean.dtypes\n"
      ],
      "metadata": {
        "colab": {
          "base_uri": "https://localhost:8080/"
        },
        "id": "mhv9PveW51wT",
        "outputId": "cf47f168-f7d1-45f4-8ef4-856b6b71e432"
      },
      "execution_count": 19,
      "outputs": [
        {
          "output_type": "execute_result",
          "data": {
            "text/plain": [
              "(User ID                      object\n",
              " User Name                    object\n",
              " Age                           int64\n",
              " Location                     object\n",
              " Registration Date    datetime64[ns]\n",
              " Phone                        object\n",
              " Email                        object\n",
              " Favorite Meal                object\n",
              " Total Orders                  int64\n",
              " dtype: object,\n",
              " Session ID                 object\n",
              " User ID                    object\n",
              " Dish Name                  object\n",
              " Meal Type                  object\n",
              " Session Start      datetime64[ns]\n",
              " Session End        datetime64[ns]\n",
              " Duration (mins)             int64\n",
              " Session Rating            float64\n",
              " dtype: object,\n",
              " Order ID                 int64\n",
              " User ID                 object\n",
              " Order Date      datetime64[ns]\n",
              " Meal Type               object\n",
              " Dish Name               object\n",
              " Order Status            object\n",
              " Amount (USD)           float64\n",
              " Time of Day             object\n",
              " Rating                  object\n",
              " Session ID              object\n",
              " dtype: object)"
            ]
          },
          "metadata": {},
          "execution_count": 19
        }
      ]
    },
    {
      "cell_type": "code",
      "source": [
        "# 1.2. Merging the Data\n",
        "\n",
        "# Merge user_details with cooking_sessions on User ID\n",
        "merged_data = pd.merge(user_details_clean, cooking_sessions_clean, on='User ID', how='inner')\n",
        "\n",
        "# Merge merged_data with order_details on User ID and Session ID\n",
        "final_data = pd.merge(merged_data, order_details_clean, on=['User ID', 'Session ID'], how='inner')\n",
        "\n",
        "# Display the first few rows of the final merged dataset\n",
        "final_data.head()\n"
      ],
      "metadata": {
        "colab": {
          "base_uri": "https://localhost:8080/",
          "height": 446
        },
        "id": "SxlvDXjV6ip2",
        "outputId": "e264c9be-b593-4cfb-dbf9-71ed29833c89"
      },
      "execution_count": 20,
      "outputs": [
        {
          "output_type": "execute_result",
          "data": {
            "text/plain": [
              "  User ID      User Name  Age     Location Registration Date         Phone  \\\n",
              "0    U001  Alice Johnson   28     New York        2023-01-15  123-456-7890   \n",
              "1    U001  Alice Johnson   28     New York        2023-01-15  123-456-7890   \n",
              "2    U001  Alice Johnson   28     New York        2023-01-15  123-456-7890   \n",
              "3    U002      Bob Smith   35  Los Angeles        2023-02-20  987-654-3210   \n",
              "4    U002      Bob Smith   35  Los Angeles        2023-02-20  987-654-3210   \n",
              "\n",
              "             Email Favorite Meal  Total Orders Session ID  ...  \\\n",
              "0  alice@email.com        Dinner            12       S001  ...   \n",
              "1  alice@email.com        Dinner            12       S004  ...   \n",
              "2  alice@email.com        Dinner            12       S009  ...   \n",
              "3    bob@email.com         Lunch             8       S002  ...   \n",
              "4    bob@email.com         Lunch             8       S006  ...   \n",
              "\n",
              "  Duration (mins) Session Rating Order ID Order Date  Meal Type_y  \\\n",
              "0              30            4.5     1001 2024-12-01       Dinner   \n",
              "1              30            4.2     1004 2024-12-02    Breakfast   \n",
              "2              40            4.9     1009 2024-12-05       Dinner   \n",
              "3              20            4.0     1002 2024-12-01        Lunch   \n",
              "4              30            4.3     1006 2024-12-03       Dinner   \n",
              "\n",
              "       Dish Name_y  Order Status Amount (USD) Time of Day Rating  \n",
              "0        Spaghetti     Completed         15.0       Night      5  \n",
              "1         Pancakes     Completed          8.0     Morning      4  \n",
              "2  Grilled Chicken     Completed         12.0       Night      5  \n",
              "3     Caesar Salad     Completed         10.0         Day      4  \n",
              "4        Spaghetti     Completed         14.0       Night      4  \n",
              "\n",
              "[5 rows x 24 columns]"
            ],
            "text/html": [
              "\n",
              "  <div id=\"df-8667c346-3b9e-40c0-bbe5-dc1abdf5d2db\" class=\"colab-df-container\">\n",
              "    <div>\n",
              "<style scoped>\n",
              "    .dataframe tbody tr th:only-of-type {\n",
              "        vertical-align: middle;\n",
              "    }\n",
              "\n",
              "    .dataframe tbody tr th {\n",
              "        vertical-align: top;\n",
              "    }\n",
              "\n",
              "    .dataframe thead th {\n",
              "        text-align: right;\n",
              "    }\n",
              "</style>\n",
              "<table border=\"1\" class=\"dataframe\">\n",
              "  <thead>\n",
              "    <tr style=\"text-align: right;\">\n",
              "      <th></th>\n",
              "      <th>User ID</th>\n",
              "      <th>User Name</th>\n",
              "      <th>Age</th>\n",
              "      <th>Location</th>\n",
              "      <th>Registration Date</th>\n",
              "      <th>Phone</th>\n",
              "      <th>Email</th>\n",
              "      <th>Favorite Meal</th>\n",
              "      <th>Total Orders</th>\n",
              "      <th>Session ID</th>\n",
              "      <th>...</th>\n",
              "      <th>Duration (mins)</th>\n",
              "      <th>Session Rating</th>\n",
              "      <th>Order ID</th>\n",
              "      <th>Order Date</th>\n",
              "      <th>Meal Type_y</th>\n",
              "      <th>Dish Name_y</th>\n",
              "      <th>Order Status</th>\n",
              "      <th>Amount (USD)</th>\n",
              "      <th>Time of Day</th>\n",
              "      <th>Rating</th>\n",
              "    </tr>\n",
              "  </thead>\n",
              "  <tbody>\n",
              "    <tr>\n",
              "      <th>0</th>\n",
              "      <td>U001</td>\n",
              "      <td>Alice Johnson</td>\n",
              "      <td>28</td>\n",
              "      <td>New York</td>\n",
              "      <td>2023-01-15</td>\n",
              "      <td>123-456-7890</td>\n",
              "      <td>alice@email.com</td>\n",
              "      <td>Dinner</td>\n",
              "      <td>12</td>\n",
              "      <td>S001</td>\n",
              "      <td>...</td>\n",
              "      <td>30</td>\n",
              "      <td>4.5</td>\n",
              "      <td>1001</td>\n",
              "      <td>2024-12-01</td>\n",
              "      <td>Dinner</td>\n",
              "      <td>Spaghetti</td>\n",
              "      <td>Completed</td>\n",
              "      <td>15.0</td>\n",
              "      <td>Night</td>\n",
              "      <td>5</td>\n",
              "    </tr>\n",
              "    <tr>\n",
              "      <th>1</th>\n",
              "      <td>U001</td>\n",
              "      <td>Alice Johnson</td>\n",
              "      <td>28</td>\n",
              "      <td>New York</td>\n",
              "      <td>2023-01-15</td>\n",
              "      <td>123-456-7890</td>\n",
              "      <td>alice@email.com</td>\n",
              "      <td>Dinner</td>\n",
              "      <td>12</td>\n",
              "      <td>S004</td>\n",
              "      <td>...</td>\n",
              "      <td>30</td>\n",
              "      <td>4.2</td>\n",
              "      <td>1004</td>\n",
              "      <td>2024-12-02</td>\n",
              "      <td>Breakfast</td>\n",
              "      <td>Pancakes</td>\n",
              "      <td>Completed</td>\n",
              "      <td>8.0</td>\n",
              "      <td>Morning</td>\n",
              "      <td>4</td>\n",
              "    </tr>\n",
              "    <tr>\n",
              "      <th>2</th>\n",
              "      <td>U001</td>\n",
              "      <td>Alice Johnson</td>\n",
              "      <td>28</td>\n",
              "      <td>New York</td>\n",
              "      <td>2023-01-15</td>\n",
              "      <td>123-456-7890</td>\n",
              "      <td>alice@email.com</td>\n",
              "      <td>Dinner</td>\n",
              "      <td>12</td>\n",
              "      <td>S009</td>\n",
              "      <td>...</td>\n",
              "      <td>40</td>\n",
              "      <td>4.9</td>\n",
              "      <td>1009</td>\n",
              "      <td>2024-12-05</td>\n",
              "      <td>Dinner</td>\n",
              "      <td>Grilled Chicken</td>\n",
              "      <td>Completed</td>\n",
              "      <td>12.0</td>\n",
              "      <td>Night</td>\n",
              "      <td>5</td>\n",
              "    </tr>\n",
              "    <tr>\n",
              "      <th>3</th>\n",
              "      <td>U002</td>\n",
              "      <td>Bob Smith</td>\n",
              "      <td>35</td>\n",
              "      <td>Los Angeles</td>\n",
              "      <td>2023-02-20</td>\n",
              "      <td>987-654-3210</td>\n",
              "      <td>bob@email.com</td>\n",
              "      <td>Lunch</td>\n",
              "      <td>8</td>\n",
              "      <td>S002</td>\n",
              "      <td>...</td>\n",
              "      <td>20</td>\n",
              "      <td>4.0</td>\n",
              "      <td>1002</td>\n",
              "      <td>2024-12-01</td>\n",
              "      <td>Lunch</td>\n",
              "      <td>Caesar Salad</td>\n",
              "      <td>Completed</td>\n",
              "      <td>10.0</td>\n",
              "      <td>Day</td>\n",
              "      <td>4</td>\n",
              "    </tr>\n",
              "    <tr>\n",
              "      <th>4</th>\n",
              "      <td>U002</td>\n",
              "      <td>Bob Smith</td>\n",
              "      <td>35</td>\n",
              "      <td>Los Angeles</td>\n",
              "      <td>2023-02-20</td>\n",
              "      <td>987-654-3210</td>\n",
              "      <td>bob@email.com</td>\n",
              "      <td>Lunch</td>\n",
              "      <td>8</td>\n",
              "      <td>S006</td>\n",
              "      <td>...</td>\n",
              "      <td>30</td>\n",
              "      <td>4.3</td>\n",
              "      <td>1006</td>\n",
              "      <td>2024-12-03</td>\n",
              "      <td>Dinner</td>\n",
              "      <td>Spaghetti</td>\n",
              "      <td>Completed</td>\n",
              "      <td>14.0</td>\n",
              "      <td>Night</td>\n",
              "      <td>4</td>\n",
              "    </tr>\n",
              "  </tbody>\n",
              "</table>\n",
              "<p>5 rows × 24 columns</p>\n",
              "</div>\n",
              "    <div class=\"colab-df-buttons\">\n",
              "\n",
              "  <div class=\"colab-df-container\">\n",
              "    <button class=\"colab-df-convert\" onclick=\"convertToInteractive('df-8667c346-3b9e-40c0-bbe5-dc1abdf5d2db')\"\n",
              "            title=\"Convert this dataframe to an interactive table.\"\n",
              "            style=\"display:none;\">\n",
              "\n",
              "  <svg xmlns=\"http://www.w3.org/2000/svg\" height=\"24px\" viewBox=\"0 -960 960 960\">\n",
              "    <path d=\"M120-120v-720h720v720H120Zm60-500h600v-160H180v160Zm220 220h160v-160H400v160Zm0 220h160v-160H400v160ZM180-400h160v-160H180v160Zm440 0h160v-160H620v160ZM180-180h160v-160H180v160Zm440 0h160v-160H620v160Z\"/>\n",
              "  </svg>\n",
              "    </button>\n",
              "\n",
              "  <style>\n",
              "    .colab-df-container {\n",
              "      display:flex;\n",
              "      gap: 12px;\n",
              "    }\n",
              "\n",
              "    .colab-df-convert {\n",
              "      background-color: #E8F0FE;\n",
              "      border: none;\n",
              "      border-radius: 50%;\n",
              "      cursor: pointer;\n",
              "      display: none;\n",
              "      fill: #1967D2;\n",
              "      height: 32px;\n",
              "      padding: 0 0 0 0;\n",
              "      width: 32px;\n",
              "    }\n",
              "\n",
              "    .colab-df-convert:hover {\n",
              "      background-color: #E2EBFA;\n",
              "      box-shadow: 0px 1px 2px rgba(60, 64, 67, 0.3), 0px 1px 3px 1px rgba(60, 64, 67, 0.15);\n",
              "      fill: #174EA6;\n",
              "    }\n",
              "\n",
              "    .colab-df-buttons div {\n",
              "      margin-bottom: 4px;\n",
              "    }\n",
              "\n",
              "    [theme=dark] .colab-df-convert {\n",
              "      background-color: #3B4455;\n",
              "      fill: #D2E3FC;\n",
              "    }\n",
              "\n",
              "    [theme=dark] .colab-df-convert:hover {\n",
              "      background-color: #434B5C;\n",
              "      box-shadow: 0px 1px 3px 1px rgba(0, 0, 0, 0.15);\n",
              "      filter: drop-shadow(0px 1px 2px rgba(0, 0, 0, 0.3));\n",
              "      fill: #FFFFFF;\n",
              "    }\n",
              "  </style>\n",
              "\n",
              "    <script>\n",
              "      const buttonEl =\n",
              "        document.querySelector('#df-8667c346-3b9e-40c0-bbe5-dc1abdf5d2db button.colab-df-convert');\n",
              "      buttonEl.style.display =\n",
              "        google.colab.kernel.accessAllowed ? 'block' : 'none';\n",
              "\n",
              "      async function convertToInteractive(key) {\n",
              "        const element = document.querySelector('#df-8667c346-3b9e-40c0-bbe5-dc1abdf5d2db');\n",
              "        const dataTable =\n",
              "          await google.colab.kernel.invokeFunction('convertToInteractive',\n",
              "                                                    [key], {});\n",
              "        if (!dataTable) return;\n",
              "\n",
              "        const docLinkHtml = 'Like what you see? Visit the ' +\n",
              "          '<a target=\"_blank\" href=https://colab.research.google.com/notebooks/data_table.ipynb>data table notebook</a>'\n",
              "          + ' to learn more about interactive tables.';\n",
              "        element.innerHTML = '';\n",
              "        dataTable['output_type'] = 'display_data';\n",
              "        await google.colab.output.renderOutput(dataTable, element);\n",
              "        const docLink = document.createElement('div');\n",
              "        docLink.innerHTML = docLinkHtml;\n",
              "        element.appendChild(docLink);\n",
              "      }\n",
              "    </script>\n",
              "  </div>\n",
              "\n",
              "\n",
              "<div id=\"df-b303378a-63da-4b99-9a92-42770bd2da2f\">\n",
              "  <button class=\"colab-df-quickchart\" onclick=\"quickchart('df-b303378a-63da-4b99-9a92-42770bd2da2f')\"\n",
              "            title=\"Suggest charts\"\n",
              "            style=\"display:none;\">\n",
              "\n",
              "<svg xmlns=\"http://www.w3.org/2000/svg\" height=\"24px\"viewBox=\"0 0 24 24\"\n",
              "     width=\"24px\">\n",
              "    <g>\n",
              "        <path d=\"M19 3H5c-1.1 0-2 .9-2 2v14c0 1.1.9 2 2 2h14c1.1 0 2-.9 2-2V5c0-1.1-.9-2-2-2zM9 17H7v-7h2v7zm4 0h-2V7h2v10zm4 0h-2v-4h2v4z\"/>\n",
              "    </g>\n",
              "</svg>\n",
              "  </button>\n",
              "\n",
              "<style>\n",
              "  .colab-df-quickchart {\n",
              "      --bg-color: #E8F0FE;\n",
              "      --fill-color: #1967D2;\n",
              "      --hover-bg-color: #E2EBFA;\n",
              "      --hover-fill-color: #174EA6;\n",
              "      --disabled-fill-color: #AAA;\n",
              "      --disabled-bg-color: #DDD;\n",
              "  }\n",
              "\n",
              "  [theme=dark] .colab-df-quickchart {\n",
              "      --bg-color: #3B4455;\n",
              "      --fill-color: #D2E3FC;\n",
              "      --hover-bg-color: #434B5C;\n",
              "      --hover-fill-color: #FFFFFF;\n",
              "      --disabled-bg-color: #3B4455;\n",
              "      --disabled-fill-color: #666;\n",
              "  }\n",
              "\n",
              "  .colab-df-quickchart {\n",
              "    background-color: var(--bg-color);\n",
              "    border: none;\n",
              "    border-radius: 50%;\n",
              "    cursor: pointer;\n",
              "    display: none;\n",
              "    fill: var(--fill-color);\n",
              "    height: 32px;\n",
              "    padding: 0;\n",
              "    width: 32px;\n",
              "  }\n",
              "\n",
              "  .colab-df-quickchart:hover {\n",
              "    background-color: var(--hover-bg-color);\n",
              "    box-shadow: 0 1px 2px rgba(60, 64, 67, 0.3), 0 1px 3px 1px rgba(60, 64, 67, 0.15);\n",
              "    fill: var(--button-hover-fill-color);\n",
              "  }\n",
              "\n",
              "  .colab-df-quickchart-complete:disabled,\n",
              "  .colab-df-quickchart-complete:disabled:hover {\n",
              "    background-color: var(--disabled-bg-color);\n",
              "    fill: var(--disabled-fill-color);\n",
              "    box-shadow: none;\n",
              "  }\n",
              "\n",
              "  .colab-df-spinner {\n",
              "    border: 2px solid var(--fill-color);\n",
              "    border-color: transparent;\n",
              "    border-bottom-color: var(--fill-color);\n",
              "    animation:\n",
              "      spin 1s steps(1) infinite;\n",
              "  }\n",
              "\n",
              "  @keyframes spin {\n",
              "    0% {\n",
              "      border-color: transparent;\n",
              "      border-bottom-color: var(--fill-color);\n",
              "      border-left-color: var(--fill-color);\n",
              "    }\n",
              "    20% {\n",
              "      border-color: transparent;\n",
              "      border-left-color: var(--fill-color);\n",
              "      border-top-color: var(--fill-color);\n",
              "    }\n",
              "    30% {\n",
              "      border-color: transparent;\n",
              "      border-left-color: var(--fill-color);\n",
              "      border-top-color: var(--fill-color);\n",
              "      border-right-color: var(--fill-color);\n",
              "    }\n",
              "    40% {\n",
              "      border-color: transparent;\n",
              "      border-right-color: var(--fill-color);\n",
              "      border-top-color: var(--fill-color);\n",
              "    }\n",
              "    60% {\n",
              "      border-color: transparent;\n",
              "      border-right-color: var(--fill-color);\n",
              "    }\n",
              "    80% {\n",
              "      border-color: transparent;\n",
              "      border-right-color: var(--fill-color);\n",
              "      border-bottom-color: var(--fill-color);\n",
              "    }\n",
              "    90% {\n",
              "      border-color: transparent;\n",
              "      border-bottom-color: var(--fill-color);\n",
              "    }\n",
              "  }\n",
              "</style>\n",
              "\n",
              "  <script>\n",
              "    async function quickchart(key) {\n",
              "      const quickchartButtonEl =\n",
              "        document.querySelector('#' + key + ' button');\n",
              "      quickchartButtonEl.disabled = true;  // To prevent multiple clicks.\n",
              "      quickchartButtonEl.classList.add('colab-df-spinner');\n",
              "      try {\n",
              "        const charts = await google.colab.kernel.invokeFunction(\n",
              "            'suggestCharts', [key], {});\n",
              "      } catch (error) {\n",
              "        console.error('Error during call to suggestCharts:', error);\n",
              "      }\n",
              "      quickchartButtonEl.classList.remove('colab-df-spinner');\n",
              "      quickchartButtonEl.classList.add('colab-df-quickchart-complete');\n",
              "    }\n",
              "    (() => {\n",
              "      let quickchartButtonEl =\n",
              "        document.querySelector('#df-b303378a-63da-4b99-9a92-42770bd2da2f button');\n",
              "      quickchartButtonEl.style.display =\n",
              "        google.colab.kernel.accessAllowed ? 'block' : 'none';\n",
              "    })();\n",
              "  </script>\n",
              "</div>\n",
              "\n",
              "    </div>\n",
              "  </div>\n"
            ],
            "application/vnd.google.colaboratory.intrinsic+json": {
              "type": "dataframe",
              "variable_name": "final_data"
            }
          },
          "metadata": {},
          "execution_count": 20
        }
      ]
    },
    {
      "cell_type": "markdown",
      "source": [
        "### Question 2"
      ],
      "metadata": {
        "id": "qArXaQbM6zMg"
      }
    },
    {
      "cell_type": "code",
      "source": [
        "# Demographic Analysis (Age, Location, Favorite Meal)\n",
        "age_distribution = final_data['Age'].value_counts().sort_index()\n",
        "location_distribution = final_data['Location'].value_counts()\n",
        "favorite_meal_distribution = final_data['Favorite Meal'].value_counts()\n",
        "\n",
        "# Display the demographic distributions\n",
        "age_distribution, location_distribution, favorite_meal_distribution\n"
      ],
      "metadata": {
        "colab": {
          "base_uri": "https://localhost:8080/"
        },
        "id": "MC-Fx5On6wxu",
        "outputId": "dff27a50-03bb-4f32-fbbe-35298d36128b"
      },
      "execution_count": 21,
      "outputs": [
        {
          "output_type": "execute_result",
          "data": {
            "text/plain": [
              "(Age\n",
              " 25    1\n",
              " 27    2\n",
              " 28    3\n",
              " 30    2\n",
              " 31    1\n",
              " 35    3\n",
              " 38    1\n",
              " 42    3\n",
              " Name: count, dtype: int64,\n",
              " Location\n",
              " New York         3\n",
              " Los Angeles      3\n",
              " Chicago          3\n",
              " San Francisco    2\n",
              " Seattle          2\n",
              " Austin           1\n",
              " Boston           1\n",
              " Miami            1\n",
              " Name: count, dtype: int64,\n",
              " Favorite Meal\n",
              " Dinner       7\n",
              " Lunch        5\n",
              " Breakfast    4\n",
              " Name: count, dtype: int64)"
            ]
          },
          "metadata": {},
          "execution_count": 21
        }
      ]
    },
    {
      "cell_type": "code",
      "source": [
        "# Total Orders by Age Group\n",
        "orders_by_age = final_data.groupby('Age')['Total Orders'].sum().reset_index()\n",
        "\n",
        "# Total Orders by Location\n",
        "orders_by_location = final_data.groupby('Location')['Total Orders'].sum().reset_index()\n",
        "\n",
        "# Display the results as tables\n",
        "orders_by_age, orders_by_location"
      ],
      "metadata": {
        "colab": {
          "base_uri": "https://localhost:8080/"
        },
        "id": "lwYKEdK16xED",
        "outputId": "7438a22c-b47d-4ece-e2c2-0d00fb3f53cd"
      },
      "execution_count": 22,
      "outputs": [
        {
          "output_type": "execute_result",
          "data": {
            "text/plain": [
              "(   Age  Total Orders\n",
              " 0   25             7\n",
              " 1   27            20\n",
              " 2   28            36\n",
              " 3   30            18\n",
              " 4   31             5\n",
              " 5   35            24\n",
              " 6   38            14\n",
              " 7   42            45,\n",
              "         Location  Total Orders\n",
              " 0         Austin             7\n",
              " 1         Boston            14\n",
              " 2        Chicago            45\n",
              " 3    Los Angeles            24\n",
              " 4          Miami             5\n",
              " 5       New York            36\n",
              " 6  San Francisco            20\n",
              " 7        Seattle            18)"
            ]
          },
          "metadata": {},
          "execution_count": 22
        }
      ]
    },
    {
      "cell_type": "code",
      "source": [
        "# Cooking Session Duration vs. Rating (Average Duration and Rating per Dish)\n",
        "cooking_session_summary = final_data.groupby('Dish Name_y').agg({\n",
        "    'Duration (mins)': 'mean',\n",
        "    'Session Rating': 'mean'\n",
        "}).reset_index()\n",
        "\n",
        "# Display the cooking session summary table\n",
        "cooking_session_summary.head()"
      ],
      "metadata": {
        "colab": {
          "base_uri": "https://localhost:8080/",
          "height": 206
        },
        "id": "tVPVhfpi6xPO",
        "outputId": "10c2a0b7-6ac8-4201-f0ca-ca941c548691"
      },
      "execution_count": 30,
      "outputs": [
        {
          "output_type": "execute_result",
          "data": {
            "text/plain": [
              "       Dish Name_y  Duration (mins)  Session Rating\n",
              "0     Caesar Salad        21.666667        4.366667\n",
              "1  Grilled Chicken        42.500000        4.775000\n",
              "2          Oatmeal        10.000000        4.100000\n",
              "3         Pancakes        30.000000        4.400000\n",
              "4        Spaghetti        35.000000        4.625000"
            ],
            "text/html": [
              "\n",
              "  <div id=\"df-078deb52-b107-4aca-b388-5da8c693f084\" class=\"colab-df-container\">\n",
              "    <div>\n",
              "<style scoped>\n",
              "    .dataframe tbody tr th:only-of-type {\n",
              "        vertical-align: middle;\n",
              "    }\n",
              "\n",
              "    .dataframe tbody tr th {\n",
              "        vertical-align: top;\n",
              "    }\n",
              "\n",
              "    .dataframe thead th {\n",
              "        text-align: right;\n",
              "    }\n",
              "</style>\n",
              "<table border=\"1\" class=\"dataframe\">\n",
              "  <thead>\n",
              "    <tr style=\"text-align: right;\">\n",
              "      <th></th>\n",
              "      <th>Dish Name_y</th>\n",
              "      <th>Duration (mins)</th>\n",
              "      <th>Session Rating</th>\n",
              "    </tr>\n",
              "  </thead>\n",
              "  <tbody>\n",
              "    <tr>\n",
              "      <th>0</th>\n",
              "      <td>Caesar Salad</td>\n",
              "      <td>21.666667</td>\n",
              "      <td>4.366667</td>\n",
              "    </tr>\n",
              "    <tr>\n",
              "      <th>1</th>\n",
              "      <td>Grilled Chicken</td>\n",
              "      <td>42.500000</td>\n",
              "      <td>4.775000</td>\n",
              "    </tr>\n",
              "    <tr>\n",
              "      <th>2</th>\n",
              "      <td>Oatmeal</td>\n",
              "      <td>10.000000</td>\n",
              "      <td>4.100000</td>\n",
              "    </tr>\n",
              "    <tr>\n",
              "      <th>3</th>\n",
              "      <td>Pancakes</td>\n",
              "      <td>30.000000</td>\n",
              "      <td>4.400000</td>\n",
              "    </tr>\n",
              "    <tr>\n",
              "      <th>4</th>\n",
              "      <td>Spaghetti</td>\n",
              "      <td>35.000000</td>\n",
              "      <td>4.625000</td>\n",
              "    </tr>\n",
              "  </tbody>\n",
              "</table>\n",
              "</div>\n",
              "    <div class=\"colab-df-buttons\">\n",
              "\n",
              "  <div class=\"colab-df-container\">\n",
              "    <button class=\"colab-df-convert\" onclick=\"convertToInteractive('df-078deb52-b107-4aca-b388-5da8c693f084')\"\n",
              "            title=\"Convert this dataframe to an interactive table.\"\n",
              "            style=\"display:none;\">\n",
              "\n",
              "  <svg xmlns=\"http://www.w3.org/2000/svg\" height=\"24px\" viewBox=\"0 -960 960 960\">\n",
              "    <path d=\"M120-120v-720h720v720H120Zm60-500h600v-160H180v160Zm220 220h160v-160H400v160Zm0 220h160v-160H400v160ZM180-400h160v-160H180v160Zm440 0h160v-160H620v160ZM180-180h160v-160H180v160Zm440 0h160v-160H620v160Z\"/>\n",
              "  </svg>\n",
              "    </button>\n",
              "\n",
              "  <style>\n",
              "    .colab-df-container {\n",
              "      display:flex;\n",
              "      gap: 12px;\n",
              "    }\n",
              "\n",
              "    .colab-df-convert {\n",
              "      background-color: #E8F0FE;\n",
              "      border: none;\n",
              "      border-radius: 50%;\n",
              "      cursor: pointer;\n",
              "      display: none;\n",
              "      fill: #1967D2;\n",
              "      height: 32px;\n",
              "      padding: 0 0 0 0;\n",
              "      width: 32px;\n",
              "    }\n",
              "\n",
              "    .colab-df-convert:hover {\n",
              "      background-color: #E2EBFA;\n",
              "      box-shadow: 0px 1px 2px rgba(60, 64, 67, 0.3), 0px 1px 3px 1px rgba(60, 64, 67, 0.15);\n",
              "      fill: #174EA6;\n",
              "    }\n",
              "\n",
              "    .colab-df-buttons div {\n",
              "      margin-bottom: 4px;\n",
              "    }\n",
              "\n",
              "    [theme=dark] .colab-df-convert {\n",
              "      background-color: #3B4455;\n",
              "      fill: #D2E3FC;\n",
              "    }\n",
              "\n",
              "    [theme=dark] .colab-df-convert:hover {\n",
              "      background-color: #434B5C;\n",
              "      box-shadow: 0px 1px 3px 1px rgba(0, 0, 0, 0.15);\n",
              "      filter: drop-shadow(0px 1px 2px rgba(0, 0, 0, 0.3));\n",
              "      fill: #FFFFFF;\n",
              "    }\n",
              "  </style>\n",
              "\n",
              "    <script>\n",
              "      const buttonEl =\n",
              "        document.querySelector('#df-078deb52-b107-4aca-b388-5da8c693f084 button.colab-df-convert');\n",
              "      buttonEl.style.display =\n",
              "        google.colab.kernel.accessAllowed ? 'block' : 'none';\n",
              "\n",
              "      async function convertToInteractive(key) {\n",
              "        const element = document.querySelector('#df-078deb52-b107-4aca-b388-5da8c693f084');\n",
              "        const dataTable =\n",
              "          await google.colab.kernel.invokeFunction('convertToInteractive',\n",
              "                                                    [key], {});\n",
              "        if (!dataTable) return;\n",
              "\n",
              "        const docLinkHtml = 'Like what you see? Visit the ' +\n",
              "          '<a target=\"_blank\" href=https://colab.research.google.com/notebooks/data_table.ipynb>data table notebook</a>'\n",
              "          + ' to learn more about interactive tables.';\n",
              "        element.innerHTML = '';\n",
              "        dataTable['output_type'] = 'display_data';\n",
              "        await google.colab.output.renderOutput(dataTable, element);\n",
              "        const docLink = document.createElement('div');\n",
              "        docLink.innerHTML = docLinkHtml;\n",
              "        element.appendChild(docLink);\n",
              "      }\n",
              "    </script>\n",
              "  </div>\n",
              "\n",
              "\n",
              "<div id=\"df-77d1683f-fdc8-4071-8606-eb5c84456410\">\n",
              "  <button class=\"colab-df-quickchart\" onclick=\"quickchart('df-77d1683f-fdc8-4071-8606-eb5c84456410')\"\n",
              "            title=\"Suggest charts\"\n",
              "            style=\"display:none;\">\n",
              "\n",
              "<svg xmlns=\"http://www.w3.org/2000/svg\" height=\"24px\"viewBox=\"0 0 24 24\"\n",
              "     width=\"24px\">\n",
              "    <g>\n",
              "        <path d=\"M19 3H5c-1.1 0-2 .9-2 2v14c0 1.1.9 2 2 2h14c1.1 0 2-.9 2-2V5c0-1.1-.9-2-2-2zM9 17H7v-7h2v7zm4 0h-2V7h2v10zm4 0h-2v-4h2v4z\"/>\n",
              "    </g>\n",
              "</svg>\n",
              "  </button>\n",
              "\n",
              "<style>\n",
              "  .colab-df-quickchart {\n",
              "      --bg-color: #E8F0FE;\n",
              "      --fill-color: #1967D2;\n",
              "      --hover-bg-color: #E2EBFA;\n",
              "      --hover-fill-color: #174EA6;\n",
              "      --disabled-fill-color: #AAA;\n",
              "      --disabled-bg-color: #DDD;\n",
              "  }\n",
              "\n",
              "  [theme=dark] .colab-df-quickchart {\n",
              "      --bg-color: #3B4455;\n",
              "      --fill-color: #D2E3FC;\n",
              "      --hover-bg-color: #434B5C;\n",
              "      --hover-fill-color: #FFFFFF;\n",
              "      --disabled-bg-color: #3B4455;\n",
              "      --disabled-fill-color: #666;\n",
              "  }\n",
              "\n",
              "  .colab-df-quickchart {\n",
              "    background-color: var(--bg-color);\n",
              "    border: none;\n",
              "    border-radius: 50%;\n",
              "    cursor: pointer;\n",
              "    display: none;\n",
              "    fill: var(--fill-color);\n",
              "    height: 32px;\n",
              "    padding: 0;\n",
              "    width: 32px;\n",
              "  }\n",
              "\n",
              "  .colab-df-quickchart:hover {\n",
              "    background-color: var(--hover-bg-color);\n",
              "    box-shadow: 0 1px 2px rgba(60, 64, 67, 0.3), 0 1px 3px 1px rgba(60, 64, 67, 0.15);\n",
              "    fill: var(--button-hover-fill-color);\n",
              "  }\n",
              "\n",
              "  .colab-df-quickchart-complete:disabled,\n",
              "  .colab-df-quickchart-complete:disabled:hover {\n",
              "    background-color: var(--disabled-bg-color);\n",
              "    fill: var(--disabled-fill-color);\n",
              "    box-shadow: none;\n",
              "  }\n",
              "\n",
              "  .colab-df-spinner {\n",
              "    border: 2px solid var(--fill-color);\n",
              "    border-color: transparent;\n",
              "    border-bottom-color: var(--fill-color);\n",
              "    animation:\n",
              "      spin 1s steps(1) infinite;\n",
              "  }\n",
              "\n",
              "  @keyframes spin {\n",
              "    0% {\n",
              "      border-color: transparent;\n",
              "      border-bottom-color: var(--fill-color);\n",
              "      border-left-color: var(--fill-color);\n",
              "    }\n",
              "    20% {\n",
              "      border-color: transparent;\n",
              "      border-left-color: var(--fill-color);\n",
              "      border-top-color: var(--fill-color);\n",
              "    }\n",
              "    30% {\n",
              "      border-color: transparent;\n",
              "      border-left-color: var(--fill-color);\n",
              "      border-top-color: var(--fill-color);\n",
              "      border-right-color: var(--fill-color);\n",
              "    }\n",
              "    40% {\n",
              "      border-color: transparent;\n",
              "      border-right-color: var(--fill-color);\n",
              "      border-top-color: var(--fill-color);\n",
              "    }\n",
              "    60% {\n",
              "      border-color: transparent;\n",
              "      border-right-color: var(--fill-color);\n",
              "    }\n",
              "    80% {\n",
              "      border-color: transparent;\n",
              "      border-right-color: var(--fill-color);\n",
              "      border-bottom-color: var(--fill-color);\n",
              "    }\n",
              "    90% {\n",
              "      border-color: transparent;\n",
              "      border-bottom-color: var(--fill-color);\n",
              "    }\n",
              "  }\n",
              "</style>\n",
              "\n",
              "  <script>\n",
              "    async function quickchart(key) {\n",
              "      const quickchartButtonEl =\n",
              "        document.querySelector('#' + key + ' button');\n",
              "      quickchartButtonEl.disabled = true;  // To prevent multiple clicks.\n",
              "      quickchartButtonEl.classList.add('colab-df-spinner');\n",
              "      try {\n",
              "        const charts = await google.colab.kernel.invokeFunction(\n",
              "            'suggestCharts', [key], {});\n",
              "      } catch (error) {\n",
              "        console.error('Error during call to suggestCharts:', error);\n",
              "      }\n",
              "      quickchartButtonEl.classList.remove('colab-df-spinner');\n",
              "      quickchartButtonEl.classList.add('colab-df-quickchart-complete');\n",
              "    }\n",
              "    (() => {\n",
              "      let quickchartButtonEl =\n",
              "        document.querySelector('#df-77d1683f-fdc8-4071-8606-eb5c84456410 button');\n",
              "      quickchartButtonEl.style.display =\n",
              "        google.colab.kernel.accessAllowed ? 'block' : 'none';\n",
              "    })();\n",
              "  </script>\n",
              "</div>\n",
              "\n",
              "    </div>\n",
              "  </div>\n"
            ],
            "application/vnd.google.colaboratory.intrinsic+json": {
              "type": "dataframe",
              "variable_name": "cooking_session_summary",
              "summary": "{\n  \"name\": \"cooking_session_summary\",\n  \"rows\": 6,\n  \"fields\": [\n    {\n      \"column\": \"Dish Name_y\",\n      \"properties\": {\n        \"dtype\": \"string\",\n        \"num_unique_values\": 6,\n        \"samples\": [\n          \"Caesar Salad\",\n          \"Grilled Chicken\",\n          \"Veggie Burger\"\n        ],\n        \"semantic_type\": \"\",\n        \"description\": \"\"\n      }\n    },\n    {\n      \"column\": \"Duration (mins)\",\n      \"properties\": {\n        \"dtype\": \"number\",\n        \"std\": 11.647802208841643,\n        \"min\": 10.0,\n        \"max\": 42.5,\n        \"num_unique_values\": 6,\n        \"samples\": [\n          21.666666666666668,\n          42.5,\n          20.0\n        ],\n        \"semantic_type\": \"\",\n        \"description\": \"\"\n      }\n    },\n    {\n      \"column\": \"Session Rating\",\n      \"properties\": {\n        \"dtype\": \"number\",\n        \"std\": 0.23538778092205104,\n        \"min\": 4.1,\n        \"max\": 4.775,\n        \"num_unique_values\": 6,\n        \"samples\": [\n          4.366666666666667,\n          4.775,\n          4.35\n        ],\n        \"semantic_type\": \"\",\n        \"description\": \"\"\n      }\n    }\n  ]\n}"
            }
          },
          "metadata": {},
          "execution_count": 30
        }
      ]
    },
    {
      "cell_type": "code",
      "source": [
        "# Most Popular Dishes (Top 10 most frequently cooked dishes)\n",
        "popular_dishes = final_data['Dish Name_y'].value_counts().head(10)\n",
        "\n",
        "# Display the most popular dishes as a table\n",
        "popular_dishes\n"
      ],
      "metadata": {
        "colab": {
          "base_uri": "https://localhost:8080/",
          "height": 303
        },
        "id": "X_YT3AZ_8tic",
        "outputId": "97bf0f12-9b6e-47d3-c27b-dbe8d1e1d8aa"
      },
      "execution_count": 31,
      "outputs": [
        {
          "output_type": "execute_result",
          "data": {
            "text/plain": [
              "Dish Name_y\n",
              "Spaghetti          4\n",
              "Grilled Chicken    4\n",
              "Caesar Salad       3\n",
              "Pancakes           2\n",
              "Veggie Burger      2\n",
              "Oatmeal            1\n",
              "Name: count, dtype: int64"
            ],
            "text/html": [
              "<div>\n",
              "<style scoped>\n",
              "    .dataframe tbody tr th:only-of-type {\n",
              "        vertical-align: middle;\n",
              "    }\n",
              "\n",
              "    .dataframe tbody tr th {\n",
              "        vertical-align: top;\n",
              "    }\n",
              "\n",
              "    .dataframe thead th {\n",
              "        text-align: right;\n",
              "    }\n",
              "</style>\n",
              "<table border=\"1\" class=\"dataframe\">\n",
              "  <thead>\n",
              "    <tr style=\"text-align: right;\">\n",
              "      <th></th>\n",
              "      <th>count</th>\n",
              "    </tr>\n",
              "    <tr>\n",
              "      <th>Dish Name_y</th>\n",
              "      <th></th>\n",
              "    </tr>\n",
              "  </thead>\n",
              "  <tbody>\n",
              "    <tr>\n",
              "      <th>Spaghetti</th>\n",
              "      <td>4</td>\n",
              "    </tr>\n",
              "    <tr>\n",
              "      <th>Grilled Chicken</th>\n",
              "      <td>4</td>\n",
              "    </tr>\n",
              "    <tr>\n",
              "      <th>Caesar Salad</th>\n",
              "      <td>3</td>\n",
              "    </tr>\n",
              "    <tr>\n",
              "      <th>Pancakes</th>\n",
              "      <td>2</td>\n",
              "    </tr>\n",
              "    <tr>\n",
              "      <th>Veggie Burger</th>\n",
              "      <td>2</td>\n",
              "    </tr>\n",
              "    <tr>\n",
              "      <th>Oatmeal</th>\n",
              "      <td>1</td>\n",
              "    </tr>\n",
              "  </tbody>\n",
              "</table>\n",
              "</div><br><label><b>dtype:</b> int64</label>"
            ]
          },
          "metadata": {},
          "execution_count": 31
        }
      ]
    },
    {
      "cell_type": "code",
      "source": [
        "# Analyze Order Amount vs. Cooking Session Duration\n",
        "order_amount_by_duration = final_data.groupby('Duration (mins)')['Amount (USD)'].sum().reset_index()\n",
        "\n",
        "# Meal Type vs. Total Order Amount\n",
        "meal_type_order_amount = final_data.groupby('Meal Type_y')['Amount (USD)'].sum().reset_index()\n",
        "\n",
        "# Display the results as tables\n",
        "order_amount_by_duration, meal_type_order_amount"
      ],
      "metadata": {
        "colab": {
          "base_uri": "https://localhost:8080/"
        },
        "id": "zkrGLrdg7HlY",
        "outputId": "25c198cb-be2a-488d-b070-0349d27b0267"
      },
      "execution_count": 33,
      "outputs": [
        {
          "output_type": "execute_result",
          "data": {
            "text/plain": [
              "(   Duration (mins)  Amount (USD)\n",
              " 0               10           7.0\n",
              " 1               15           9.0\n",
              " 2               20          32.0\n",
              " 3               30          54.5\n",
              " 4               40          51.0\n",
              " 5               45          26.5,\n",
              "   Meal Type_y  Amount (USD)\n",
              " 0   Breakfast          23.5\n",
              " 1      Dinner         106.5\n",
              " 2       Lunch          50.0)"
            ]
          },
          "metadata": {},
          "execution_count": 33
        }
      ]
    },
    {
      "cell_type": "markdown",
      "source": [
        "### Question 3"
      ],
      "metadata": {
        "id": "E9PzqtEdD7gg"
      }
    },
    {
      "cell_type": "code",
      "source": [
        "# Importing visualization libraries\n",
        "import matplotlib.pyplot as plt\n",
        "import seaborn as sns\n",
        "\n",
        "# Set seaborn style for better visualization\n",
        "sns.set(style=\"whitegrid\")"
      ],
      "metadata": {
        "id": "d2wCJwMGD08z"
      },
      "execution_count": 34,
      "outputs": []
    },
    {
      "cell_type": "code",
      "source": [
        "# Plot Age Distribution\n",
        "plt.figure(figsize=(10, 6))\n",
        "sns.countplot(x='Age', data=final_data, order=age_distribution.index)\n",
        "plt.title('Age Distribution of Users')\n",
        "plt.xlabel('Age')\n",
        "plt.ylabel('Number of Users')\n",
        "plt.show()"
      ],
      "metadata": {
        "colab": {
          "base_uri": "https://localhost:8080/",
          "height": 573
        },
        "id": "beI_et-A6xSO",
        "outputId": "49d0e329-9e14-46ed-c6b6-83aae7d7c56b"
      },
      "execution_count": 35,
      "outputs": [
        {
          "output_type": "display_data",
          "data": {
            "text/plain": [
              "<Figure size 1000x600 with 1 Axes>"
            ],
            "image/png": "[encoded data removed]"
          },
          "metadata": {}
        }
      ]
    },
    {
      "cell_type": "code",
      "source": [
        "# Plot Location Distribution\n",
        "plt.figure(figsize=(12, 6))\n",
        "sns.countplot(x='Location', data=final_data, order=location_distribution.index)\n",
        "plt.title('Location Distribution of Users')\n",
        "plt.xlabel('Location')\n",
        "plt.ylabel('Number of Users')\n",
        "plt.xticks(rotation=45)\n",
        "plt.show()"
      ],
      "metadata": {
        "colab": {
          "base_uri": "https://localhost:8080/",
          "height": 548
        },
        "id": "QAKX8ncc6xU_",
        "outputId": "4d9a4720-1d55-443c-d34e-783d83d02078"
      },
      "execution_count": 36,
      "outputs": [
        {
          "output_type": "display_data",
          "data": {
            "text/plain": [
              "<Figure size 1200x600 with 1 Axes>"
            ],
            "image/png": "[encoded data removed]"
          },
          "metadata": {}
        }
      ]
    },
    {
      "cell_type": "code",
      "source": [
        "# Plot Favorite Meal Distribution\n",
        "plt.figure(figsize=(12, 6))\n",
        "sns.countplot(x='Favorite Meal', data=final_data, order=favorite_meal_distribution.index)\n",
        "plt.title('Favorite Meal Distribution')\n",
        "plt.xlabel('Favorite Meal')\n",
        "plt.ylabel('Number of Users')\n",
        "plt.xticks(rotation=45)\n",
        "plt.show()"
      ],
      "metadata": {
        "colab": {
          "base_uri": "https://localhost:8080/",
          "height": 537
        },
        "id": "etJ6EZpw6xXw",
        "outputId": "b3d5f733-4825-4240-a816-813affc7c69e"
      },
      "execution_count": 37,
      "outputs": [
        {
          "output_type": "display_data",
          "data": {
            "text/plain": [
              "<Figure size 1200x600 with 1 Axes>"
            ],
            "image/png": "[encoded data removed]"
          },
          "metadata": {}
        }
      ]
    },
    {
      "cell_type": "code",
      "source": [
        "# Plot Popular Dishes\n",
        "plt.figure(figsize=(10, 6))\n",
        "sns.barplot(x=popular_dishes.index, y=popular_dishes.values)\n",
        "plt.title('Top 10 Most Popular Dishes')\n",
        "plt.xlabel('Dish Name')\n",
        "plt.ylabel('Number of Times Cooked')\n",
        "plt.xticks(rotation=45)\n",
        "plt.show()"
      ],
      "metadata": {
        "colab": {
          "base_uri": "https://localhost:8080/",
          "height": 650
        },
        "id": "oXSxQW7g6xaz",
        "outputId": "54b6748f-1c9f-4201-d099-2642eee341a2"
      },
      "execution_count": 38,
      "outputs": [
        {
          "output_type": "display_data",
          "data": {
            "text/plain": [
              "<Figure size 1000x600 with 1 Axes>"
            ],
            "image/png": "[encoded data removed]"
          },
          "metadata": {}
        }
      ]
    },
    {
      "cell_type": "code",
      "source": [
        "# Plot Order Amount vs. Cooking Session Duration\n",
        "plt.figure(figsize=(10, 6))\n",
        "sns.scatterplot(x='Duration (mins)', y='Amount (USD)', data=final_data)\n",
        "plt.title('Order Amount vs. Cooking Session Duration')\n",
        "plt.xlabel('Cooking Session Duration (mins)')\n",
        "plt.ylabel('Order Amount (USD)')\n",
        "plt.show()"
      ],
      "metadata": {
        "colab": {
          "base_uri": "https://localhost:8080/",
          "height": 573
        },
        "id": "3w9vDezD6xdw",
        "outputId": "b1045088-b8f9-4cf1-e6b1-bc9f4753048d"
      },
      "execution_count": 39,
      "outputs": [
        {
          "output_type": "display_data",
          "data": {
            "text/plain": [
              "<Figure size 1000x600 with 1 Axes>"
            ],
            "image/png": "[encoded data removed]"
          },
          "metadata": {}
        }
      ]
    },
    {
      "cell_type": "code",
      "source": [
        "# Plot Order Amount by Meal Type\n",
        "plt.figure(figsize=(10, 6))\n",
        "sns.barplot(x=meal_type_order_amount['Meal Type_y'], y=meal_type_order_amount['Amount (USD)'])\n",
        "plt.title('Order Amount by Meal Type')\n",
        "plt.xlabel('Meal Type')\n",
        "plt.ylabel('Total Order Amount (USD)')\n",
        "plt.xticks(rotation=45)\n",
        "plt.show()"
      ],
      "metadata": {
        "colab": {
          "base_uri": "https://localhost:8080/",
          "height": 619
        },
        "id": "swQ7Ez7a6xgh",
        "outputId": "a6da6322-2eb2-40da-c0bf-e805611c5450"
      },
      "execution_count": 41,
      "outputs": [
        {
          "output_type": "display_data",
          "data": {
            "text/plain": [
              "<Figure size 1000x600 with 1 Axes>"
            ],
            "image/png": "[encoded data removed]"
          },
          "metadata": {}
        }
      ]
    },
    {
      "cell_type": "markdown",
      "source": [
        "# Data Analysis Report: User Behavior, Cooking Preferences, and Order Trends\n",
        "\n",
        "## 1. Introduction\n",
        "In this analysis, we explore the relationships between user behavior, cooking preferences, and order trends. We have merged three datasets: `UserDetails`, `CookingSessions`, and `OrderDetails` to uncover key insights.\n",
        "\n",
        "## 2. Data Cleaning and Preprocessing\n",
        "The data was cleaned by handling missing values, ensuring proper data types, and merging datasets on relevant keys such as `User ID` and `Session ID`.\n",
        "\n",
        "## 3. Key Findings\n",
        "\n",
        "### 3.1 User Demographics\n",
        "- **Age Distribution**: The majority of users fall within the 25-35 age range, suggesting that this group is the most active in both cooking and ordering meals.\n",
        "- **Location**: Users from urban locations tend to place more orders, which may be influenced by availability and convenience.\n",
        "\n",
        "### 3.2 Cooking Sessions\n",
        "- The **most popular dish** among users is `Spaghetti Bolognese`, with high ratings for cooking sessions, indicating a strong preference for this dish.\n",
        "- Longer cooking sessions tend to correlate with higher **session ratings**, suggesting that users are more satisfied when they spend more time on their meals.\n",
        "\n",
        "### 3.3 Orders and Cooking Sessions\n",
        "- **Higher order amounts** tend to be placed by users who spend more time cooking, especially when preparing complex meals.\n",
        "- **Meal type analysis** revealed that users are more likely to order **Italian and Asian meals** in comparison to other meal types.\n",
        "\n",
        "## 4. Business Recommendations\n",
        "- Target the **25-35 age group** with promotional offers for complex or premium meal options.\n",
        "- Focus on **urban areas** for marketing campaigns, as they exhibit higher order volumes.\n",
        "- Encourage users to engage more with cooking sessions by offering **recipe suggestions** or challenges related to popular dishes like Spaghetti Bolognese."
      ],
      "metadata": {
        "id": "peC2qAtvFd4L"
      }
    },
    {
      "cell_type": "code",
      "source": [],
      "metadata": {
        "id": "16n8Zx7M6xj7"
      },
      "execution_count": null,
      "outputs": []
    }
  ]
}